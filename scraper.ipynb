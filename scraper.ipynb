{
 "cells": [
  {
   "cell_type": "code",
   "execution_count": 1,
   "metadata": {},
   "outputs": [],
   "source": [
    "import time\n",
    "import csv\n",
    "from selenium import webdriver\n",
    "from selenium.webdriver.common.by import By\n",
    "from selenium.webdriver.common.keys import Keys \n",
    "\n",
    "w_time = 5\n",
    "firstname = input(\"enter first name\")\n",
    "lastname = input(\"enter last name\")\n",
    "name = f\"{firstname} {lastname}\"\n",
    "name = name.lower()\n"
   ]
  },
  {
   "cell_type": "code",
   "execution_count": 2,
   "metadata": {},
   "outputs": [],
   "source": [
    "def login(driver):\n",
    "    driver.get(\"https://www.linkedin.com/login\")\n",
    "    username = \"\"           #enter your username for linkedin login\n",
    "    password = \"\"                           #enter your password for linkedin account\n",
    "\n",
    "    username_input = driver.find_element(By.ID, \"username\")\n",
    "    username_input.send_keys(username)\n",
    "    password_input = driver.find_element(By.ID, \"password\")\n",
    "    password_input.send_keys(password)\n",
    "\n",
    "    sign_in_button = driver.find_element(By.XPATH, \"//button[@type='submit']\")\n",
    "    sign_in_button.click()\n",
    "\n",
    "    driver.implicitly_wait(w_time)  # may need to increase wait time here if login id used too many times\n",
    "\n",
    "def get_data(driver):\n",
    "\n",
    "    search_bar = driver.find_element(By.XPATH, \"//input[@placeholder='Search']\")  \n",
    "    search_bar.send_keys(f\"{firstname} {lastname}\")\n",
    "    search_bar.send_keys(Keys.ENTER)\n",
    "    driver.implicitly_wait(w_time)\n",
    "    people_button = driver.find_element(By.XPATH, \"//button[text()='People']\") \n",
    "    people_button.click()\n",
    "\n",
    "    driver.implicitly_wait(w_time) \n",
    "\n",
    "    extracted_data = []\n",
    "    profile_cards = driver.find_elements(By.CLASS_NAME, \"reusable-search__result-container\")\n",
    "    count = 0\n",
    "\n",
    "    for card in profile_cards:\n",
    "        link = card.find_element(By.CLASS_NAME, \"app-aware-link\").get_attribute(\"href\") \n",
    "        data = card.text.split(\"\\n\")\n",
    "        if(len(data)==7):\n",
    "            i = 0\n",
    "        else:\n",
    "            i = 1\n",
    "        if(data[0+i].lower() == name):\n",
    "            count+=1\n",
    "            details = {\"Name\":data[0+i],\"Headline\":data[4+i],\"Location\":data[5+i],\"Linkedin\":link}\n",
    "            extracted_data.append(details)\n",
    "    return extracted_data,count\n",
    "\n",
    "def scrape_data():\n",
    "    driver=webdriver.Chrome()\n",
    "    try:\n",
    "        login(driver)\n",
    "        data,cnt = get_data(driver)\n",
    "        with open('extracted_data.csv', 'w', newline='', encoding='utf-8') as csvfile:\n",
    "            fieldnames = ['Name', 'Headline', 'Location','Linkedin']\n",
    "            writer = csv.DictWriter(csvfile, fieldnames=fieldnames)\n",
    "            writer.writeheader()\n",
    "            for profile_data in data:\n",
    "                writer.writerow(profile_data)\n",
    "    \n",
    "    except Exception as e:\n",
    "        print(f\"An error occurred: {str(e)}\")\n",
    "\n",
    "    time.sleep(w_time)\n",
    "    driver.quit()\n",
    "    print(\"data extracted successfully, found \"+str(cnt)+\" matching results\")\n",
    "    return \n"
   ]
  },
  {
   "cell_type": "code",
   "execution_count": 3,
   "metadata": {},
   "outputs": [
    {
     "name": "stdout",
     "output_type": "stream",
     "text": [
      "data extracted successfully, found 8 matching results\n"
     ]
    }
   ],
   "source": [
    "scrape_data()"
   ]
  }
 ],
 "metadata": {
  "kernelspec": {
   "display_name": "Python 3",
   "language": "python",
   "name": "python3"
  },
  "language_info": {
   "codemirror_mode": {
    "name": "ipython",
    "version": 3
   },
   "file_extension": ".py",
   "mimetype": "text/x-python",
   "name": "python",
   "nbconvert_exporter": "python",
   "pygments_lexer": "ipython3",
   "version": "3.11.1"
  }
 },
 "nbformat": 4,
 "nbformat_minor": 2
}
